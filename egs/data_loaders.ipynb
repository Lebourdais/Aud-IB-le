{
 "cells": [
  {
   "cell_type": "code",
   "execution_count": 1,
   "id": "0bfedf28",
   "metadata": {},
   "outputs": [],
   "source": [
    "from audIBle.data.datasets import ESC_50"
   ]
  },
  {
   "cell_type": "code",
   "execution_count": 2,
   "id": "e8c55552",
   "metadata": {},
   "outputs": [
    {
     "name": "stdout",
     "output_type": "stream",
     "text": [
      "Files already downloaded and verified\n"
     ]
    },
    {
     "name": "stderr",
     "output_type": "stream",
     "text": [
      "1200it [00:04, 247.59it/s]\n"
     ]
    }
   ],
   "source": [
    "root = \"/lium/corpus/vrac/tmario/\"\n",
    "dataset = ESC_50(root=root, part='train')"
   ]
  },
  {
   "cell_type": "code",
   "execution_count": null,
   "id": "bf3031a3",
   "metadata": {},
   "outputs": [
    {
     "name": "stdout",
     "output_type": "stream",
     "text": [
      "torch.Size([1, 1, 220500])\n"
     ]
    }
   ],
   "source": [
    "import torch\n",
    "data_loader = torch.utils.data.DataLoader(dataset, batch_size=1, shuffle=True)\n",
    "for i, (audio, target) in enumerate(data_loader):\n",
    "    print(audio.shape)\n",
    "    print(target.shape)\n",
    "    break"
   ]
  },
  {
   "cell_type": "code",
   "execution_count": 1,
   "id": "a388c6ac",
   "metadata": {},
   "outputs": [],
   "source": [
    "from audIBle.data.datasets import UrbanSound8k\n",
    "import os\n",
    "import torch\n",
    "root = \"/lium/corpus/vrac/tmario/sed/urbansound8k/urbansound8k/\"\n",
    "dataset = UrbanSound8k(csv_path=os.path.join(root, \"metadata/UrbanSound8K.csv\"),\n",
    "                           audio_dir=os.path.join(root, \"audio\"),\n",
    "                           sample_rate=22050,\n",
    "                           folds_to_use=[1,2,3,4,5],\n",
    "                           duration=4.0,)"
   ]
  },
  {
   "cell_type": "code",
   "execution_count": 2,
   "id": "748d0ed4",
   "metadata": {},
   "outputs": [
    {
     "name": "stdout",
     "output_type": "stream",
     "text": [
      "torch.Size([1, 1, 88200])\n",
      "torch.Size([1])\n"
     ]
    }
   ],
   "source": [
    "data_loader = torch.utils.data.DataLoader(dataset, batch_size=1, shuffle=True)\n",
    "for i, (audio, target) in enumerate(data_loader):\n",
    "    print(audio.shape)\n",
    "    print(target.shape)\n",
    "    break"
   ]
  },
  {
   "cell_type": "code",
   "execution_count": null,
   "id": "54eb34de",
   "metadata": {},
   "outputs": [],
   "source": []
  }
 ],
 "metadata": {
  "kernelspec": {
   "display_name": "xai_maps",
   "language": "python",
   "name": "python3"
  },
  "language_info": {
   "codemirror_mode": {
    "name": "ipython",
    "version": 3
   },
   "file_extension": ".py",
   "mimetype": "text/x-python",
   "name": "python",
   "nbconvert_exporter": "python",
   "pygments_lexer": "ipython3",
   "version": "3.12.9"
  }
 },
 "nbformat": 4,
 "nbformat_minor": 5
}
