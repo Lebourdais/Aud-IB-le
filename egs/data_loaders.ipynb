{
 "cells": [
  {
   "cell_type": "code",
   "execution_count": 1,
   "id": "0bfedf28",
   "metadata": {},
   "outputs": [],
   "source": [
    "from audIBle.data.datasets import ESC_50"
   ]
  },
  {
   "cell_type": "code",
   "execution_count": 2,
   "id": "e8c55552",
   "metadata": {},
   "outputs": [
    {
     "name": "stdout",
     "output_type": "stream",
     "text": [
      "Files already downloaded and verified\n"
     ]
    },
    {
     "name": "stderr",
     "output_type": "stream",
     "text": [
      "1200it [00:04, 247.59it/s]\n"
     ]
    }
   ],
   "source": [
    "root = \"/lium/corpus/vrac/tmario/\"\n",
    "dataset = ESC_50(root=root, part='train')"
   ]
  },
  {
   "cell_type": "markdown",
   "id": "1695b42b",
   "metadata": {},
   "source": []
  },
  {
   "cell_type": "code",
   "execution_count": 7,
   "id": "bf3031a3",
   "metadata": {},
   "outputs": [
    {
     "name": "stdout",
     "output_type": "stream",
     "text": [
      "torch.Size([1, 1, 220500])\n"
     ]
    }
   ],
   "source": [
    "import torch\n",
    "data_loader = torch.utils.data.DataLoader(dataset, batch_size=1, shuffle=True)\n",
    "for i, (audio, target) in enumerate(data_loader):\n",
    "    print(audio.shape)\n",
    "    break"
   ]
  },
  {
   "cell_type": "code",
   "execution_count": null,
   "id": "a388c6ac",
   "metadata": {},
   "outputs": [],
   "source": []
  }
 ],
 "metadata": {
  "kernelspec": {
   "display_name": "xai_maps",
   "language": "python",
   "name": "python3"
  },
  "language_info": {
   "codemirror_mode": {
    "name": "ipython",
    "version": 3
   },
   "file_extension": ".py",
   "mimetype": "text/x-python",
   "name": "python",
   "nbconvert_exporter": "python",
   "pygments_lexer": "ipython3",
   "version": "3.12.9"
  }
 },
 "nbformat": 4,
 "nbformat_minor": 5
}
