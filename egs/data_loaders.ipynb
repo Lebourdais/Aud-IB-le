{
 "cells": [
  {
   "cell_type": "code",
   "execution_count": 2,
   "id": "0bfedf28",
   "metadata": {},
   "outputs": [],
   "source": [
    "from audIBle.data.datasets import ESC_50"
   ]
  },
  {
   "cell_type": "code",
   "execution_count": 3,
   "id": "e8c55552",
   "metadata": {},
   "outputs": [
    {
     "name": "stdout",
     "output_type": "stream",
     "text": [
      "Files already downloaded and verified\n"
     ]
    },
    {
     "name": "stderr",
     "output_type": "stream",
     "text": [
      "0it [00:00, ?it/s]"
     ]
    },
    {
     "name": "stderr",
     "output_type": "stream",
     "text": [
      "1600it [00:05, 292.17it/s]\n"
     ]
    }
   ],
   "source": [
    "root = \"/lium/corpus/vrac/tmario/\"\n",
    "dataset = ESC_50(root=root, train=True)"
   ]
  },
  {
   "cell_type": "markdown",
   "id": "1695b42b",
   "metadata": {},
   "source": []
  },
  {
   "cell_type": "code",
   "execution_count": null,
   "id": "bf3031a3",
   "metadata": {},
   "outputs": [
    {
     "name": "stdout",
     "output_type": "stream",
     "text": [
      "0\n",
      "torch.Size([1, 1, 220500])\n",
      "torch.Size([1])\n",
      "tensor([38])\n",
      "1\n",
      "torch.Size([1, 1, 220500])\n",
      "torch.Size([1])\n",
      "tensor([19])\n",
      "2\n",
      "torch.Size([1, 1, 220500])\n",
      "torch.Size([1])\n",
      "tensor([39])\n",
      "3\n",
      "torch.Size([1, 1, 220500])\n",
      "torch.Size([1])\n",
      "tensor([10])\n",
      "4\n",
      "torch.Size([1, 1, 220500])\n",
      "torch.Size([1])\n",
      "tensor([28])\n",
      "5\n",
      "torch.Size([1, 1, 220500])\n",
      "torch.Size([1])\n",
      "tensor([30])\n",
      "6\n",
      "torch.Size([1, 1, 220500])\n",
      "torch.Size([1])\n",
      "tensor([3])\n",
      "7\n",
      "torch.Size([1, 1, 220500])\n",
      "torch.Size([1])\n",
      "tensor([41])\n",
      "8\n",
      "torch.Size([1, 1, 220500])\n",
      "torch.Size([1])\n",
      "tensor([24])\n",
      "9\n",
      "torch.Size([1, 1, 220500])\n",
      "torch.Size([1])\n",
      "tensor([13])\n",
      "10\n",
      "torch.Size([1, 1, 220500])\n",
      "torch.Size([1])\n"
     ]
    }
   ],
   "source": [
    "import torch\n",
    "data_loader = torch.utils.data.DataLoader(dataset, batch_size=1, shuffle=True)\n",
    "for i, (audio, target) in enumerate(data_loader):\n",
    "    pass"
   ]
  },
  {
   "cell_type": "code",
   "execution_count": null,
   "id": "a388c6ac",
   "metadata": {},
   "outputs": [],
   "source": []
  }
 ],
 "metadata": {
  "kernelspec": {
   "display_name": "audible",
   "language": "python",
   "name": "python3"
  },
  "language_info": {
   "codemirror_mode": {
    "name": "ipython",
    "version": 3
   },
   "file_extension": ".py",
   "mimetype": "text/x-python",
   "name": "python",
   "nbconvert_exporter": "python",
   "pygments_lexer": "ipython3",
   "version": "3.12.9"
  }
 },
 "nbformat": 4,
 "nbformat_minor": 5
}
